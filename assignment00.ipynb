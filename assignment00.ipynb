{
  "cells": [
    {
      "cell_type": "markdown",
      "metadata": {
        "colab_type": "text",
        "id": "view-in-github"
      },
      "source": [
        "<a href=\"https://colab.research.google.com/github/MehdiMaboudi/ML_WiSe2024_TUBS1120019/blob/master/Lec00/assignment00/Assignment00.ipynb\" target=\"_parent\"><img src=\"https://colab.research.google.com/assets/colab-badge.svg\" alt=\"Open In Colab\"/></a>"
      ]
    },
    {
      "cell_type": "markdown",
      "metadata": {
        "id": "O8DifSH4bcF2"
      },
      "source": [
        "[<img align=\"right\" width=\"200\" height=\"200\" src=\"https://www.tu-braunschweig.de/typo3conf/ext/tu_braunschweig/Resources/Public/Images/Logos/tu_braunschweig_logo.svg\">](https://www.tu-braunschweig.de/en/)\n",
        "\n",
        "[Mehdi Maboudi](https://www.tu-braunschweig.de/en/igp/staff/mehdi-maboudi): m.maboudi@tu-bs.de\n",
        "\n",
        "[Technical University of Braunschweig](https://www.tu-braunschweig.de/en/)  \n",
        "[Institute of Geodesy and Photogrammetry](https://www.tu-braunschweig.de/igp)  \n",
        "***"
      ]
    },
    {
      "cell_type": "markdown",
      "metadata": {
        "id": "o7iNA-DbbcF4"
      },
      "source": [
        "Complete and send this completed worksheet (including its outputs and any supporting code outside of the worksheet(if any)) with your assignment submission.  \n",
        "\n",
        "\n",
        "This exercise is a starter to:\n",
        "- Check and maybe extend your knowledge about [**Python data structures**  ](#Python-data-structures)  \n",
        "Learn more: [Python Official Tutorial](https://docs.python.org/3/tutorial/datastructures.html)\n",
        "    \n",
        "- Check and maybe extend your knowledge about [**Numpy**](#Numpy)  \n",
        "Quick overview of algebra and arrays in NumPy: [NumPy quickstart](https://numpy.org/devdocs/user/quickstart.html)\n",
        "\n",
        "- Get familiar with [**Functions**](#Functions) in Python  \n",
        "Learn more: [Python Official Tutorial about functions](https://docs.python.org/3/tutorial/controlflow.html#defining-functions)\n"
      ]
    },
    {
      "cell_type": "markdown",
      "metadata": {
        "id": "V-lQD20XbcF4",
        "toc-hr-collapsed": true,
        "toc-nb-collapsed": true
      },
      "source": [
        "# Python data structures"
      ]
    },
    {
      "cell_type": "markdown",
      "metadata": {
        "id": "A4Ry_Y8nbcF5"
      },
      "source": [
        "## String"
      ]
    },
    {
      "cell_type": "markdown",
      "metadata": {
        "id": "hAWSk7ORbcF5"
      },
      "source": [
        "Write your First Name in the string called `first_name` in lower case  \n",
        "Write your Last  Name in the string called `last_name` in lower case"
      ]
    },
    {
      "cell_type": "code",
      "execution_count": null,
      "metadata": {
        "id": "j8jwWzoMbcF6"
      },
      "outputs": [],
      "source": [
        "first_name = 'ana'\n",
        "last_name = 'ferreira'"
      ]
    },
    {
      "cell_type": "markdown",
      "metadata": {
        "id": "hMjhZ9dtbcF9"
      },
      "source": [
        "### E1.1 (1 pnt)"
      ]
    },
    {
      "cell_type": "markdown",
      "metadata": {
        "id": "_g1yyJo_bcF9"
      },
      "source": [
        "Change the first letter of both to capital"
      ]
    },
    {
      "cell_type": "code",
      "execution_count": null,
      "metadata": {
        "id": "F9mBRJ3HbcF9"
      },
      "outputs": [],
      "source": [
        "### Start of your code ##\n",
        "\n",
        "First_name = 'Ana'\n",
        "Last_name = 'Ferreira'\n",
        "\n",
        "### End   of your code ##\n",
        "\n",
        "print(First_name)\n",
        "print(Last_name)"
      ]
    },
    {
      "cell_type": "markdown",
      "metadata": {
        "id": "Iu3tpKrdbcF_"
      },
      "source": [
        "Mehdi\n",
        "Maboudi"
      ]
    },
    {
      "cell_type": "markdown",
      "metadata": {
        "id": "24F6rTp6bcGA"
      },
      "source": [
        "### E1.2 (1 pnt)"
      ]
    },
    {
      "cell_type": "markdown",
      "metadata": {
        "id": "JYA2KOo2bcGA"
      },
      "source": [
        "Then put First_name and Last_name together in another string called `name`"
      ]
    },
    {
      "cell_type": "code",
      "execution_count": null,
      "metadata": {
        "id": "vmtoR9V7bcGB"
      },
      "outputs": [],
      "source": [
        "### Start of your code ##\n",
        "\n",
        "First_name = 'Ana'\n",
        "Last_name = 'Ferreira'\n",
        "\n",
        "name = First_name + ' ' + Last_name\n",
        "\n",
        "### End   of your code ##\n",
        "\n",
        "name"
      ]
    },
    {
      "cell_type": "markdown",
      "metadata": {
        "id": "gfGLW0eHbcGD"
      },
      "source": [
        "'Mehdi Maboudi'"
      ]
    },
    {
      "cell_type": "markdown",
      "metadata": {
        "id": "FGAHU3DZbcGD"
      },
      "source": [
        "### E1.3 (1 pnt)"
      ]
    },
    {
      "cell_type": "markdown",
      "metadata": {
        "id": "2Qy_jrrAbcGE"
      },
      "source": [
        "change all the letters of `name` to uppercase"
      ]
    },
    {
      "cell_type": "code",
      "execution_count": null,
      "metadata": {
        "id": "DnGd55RebcGE"
      },
      "outputs": [],
      "source": [
        "### Start of your code ##\n",
        "\n",
        "NAME = name.upper()\n",
        "\n",
        "### End   of your code ##\n",
        "\n",
        "NAME"
      ]
    },
    {
      "cell_type": "markdown",
      "metadata": {
        "id": "fZwzfx_3bcGH"
      },
      "source": [
        "'MEHDI MABOUDI'"
      ]
    },
    {
      "cell_type": "markdown",
      "metadata": {
        "id": "nu2blZyHbcGH"
      },
      "source": [
        "### E1.4 (2 pnts)"
      ]
    },
    {
      "cell_type": "markdown",
      "metadata": {
        "id": "IN8_IF7MbcGI"
      },
      "source": [
        "count the number of letters (do not count white spaces) and put it in a variable called \"occurrences\"  \n",
        "check whether there is `I` (defines as \"selected_character\") in your NAME or not."
      ]
    },
    {
      "cell_type": "code",
      "execution_count": null,
      "metadata": {
        "id": "ED-hteKhbcGI"
      },
      "outputs": [],
      "source": [
        "### Start of your code ##\n",
        "\n",
        "### End   of your code ##\n",
        "\n",
        "\n",
        "print(NAME,'has',NAME_count,'letters')\n",
        "\n",
        "# you can see here 3 different types of string formatting in Python\n",
        "print('%d  %s in:  %s '%((0 if occurrences==-1 else occurrences),\n",
        "                         selected_character,NAME))  # % Operator\n",
        "print(\"The first letter of your name is {}.\".format(NAME[0])) # str.format\n",
        "print(f\"The last letter of your name is {NAME[-1]}.\") # f-Strings (Python 3.6+)\n",
        "\n",
        "#f-string formatting is modern and looks more readable\n",
        "TUBS_email = 'tu-bs.de'\n",
        "print(f\"\\n{First_name[0]}.{Last_name}@{TUBS_email} could be a proper email-address for you.\")\n"
      ]
    },
    {
      "cell_type": "markdown",
      "metadata": {
        "id": "Sltv16DrbcGK"
      },
      "source": [
        "MEHDI MABOUDI has 12 letters  \n",
        "2  I in:  MEHDI MABOUDI  \n",
        "The first letter of your name is M.  \n",
        "The last letter of your name is I.  \n",
        "\n",
        "M.Maboudi@tu-bs.de could be a proper email-address for you."
      ]
    },
    {
      "cell_type": "markdown",
      "metadata": {
        "id": "mfuqxyJCbcGK"
      },
      "source": [
        "## Set"
      ]
    },
    {
      "cell_type": "markdown",
      "metadata": {
        "id": "vYsmK9k3bcGL"
      },
      "source": [
        "Sets are `Unordered` collections of `unique` elements  \n",
        "Let's create some sets"
      ]
    },
    {
      "cell_type": "code",
      "execution_count": null,
      "metadata": {
        "id": "2hHG483NbcGL"
      },
      "outputs": [],
      "source": [
        "Scientific={'Numpy','Scipy'}\n",
        "Editors = set(['Spyder','vsCode'])\n",
        "Visualization=set()\n",
        "Visualization.add('Gluviz')\n",
        "Visualization.update(['Matplotlib'])"
      ]
    },
    {
      "cell_type": "markdown",
      "metadata": {
        "id": "oGWxCc5MbcGN"
      },
      "source": [
        "### E1.5 (2 pnts)"
      ]
    },
    {
      "cell_type": "markdown",
      "metadata": {
        "id": "1s-PgJ65bcGN"
      },
      "source": [
        "Check whether 'seaborn' is in 'Visualization' set or not: use a boolean variable called \"check_seaborn\"  \n",
        "if it is not in 'Visualization' set, add it to the list"
      ]
    },
    {
      "cell_type": "code",
      "execution_count": null,
      "metadata": {
        "id": "Kd8O-SaQbcGO"
      },
      "outputs": [],
      "source": [
        "print(f\"Visualization is now:{Visualization}\")\n",
        "\n",
        "### Start of your code ##\n",
        "\n",
        "### End   of your code ##\n",
        "\n",
        "\n",
        "print(f\"seaborn was {'not' if check_seaborn == False else '' } in the Visualization list.\")\n",
        "print(f\"Visualization is now:{Visualization}\")"
      ]
    },
    {
      "cell_type": "markdown",
      "metadata": {
        "id": "5AT5G9LJbcGQ"
      },
      "source": [
        "Visualization is now:{'Gluviz', 'Matplotlib'}\n",
        "seaborn was not in the Visualization list.\n",
        "Visualization is now:{'Gluviz', 'seaborn', 'Matplotlib'}"
      ]
    },
    {
      "cell_type": "markdown",
      "metadata": {
        "id": "U4poJK5rbcGQ"
      },
      "source": [
        "### E1.6 (1 pnts)"
      ]
    },
    {
      "cell_type": "markdown",
      "metadata": {
        "id": "CgfV2d0ObcGQ"
      },
      "source": [
        "Put all in one set called `tools`"
      ]
    },
    {
      "cell_type": "code",
      "execution_count": null,
      "metadata": {
        "id": "b2dDPHxabcGQ"
      },
      "outputs": [],
      "source": [
        "### Start of your code ##\n",
        "\n",
        "### End   of your code ##\n",
        "\n",
        "tools"
      ]
    },
    {
      "cell_type": "markdown",
      "metadata": {
        "id": "UZbx7Q3fbcGS"
      },
      "source": [
        "{'Gluviz', 'Matplotlib', 'Numpy', 'Scipy', 'Spyder', 'seaborn', 'vsCode'}"
      ]
    },
    {
      "cell_type": "markdown",
      "metadata": {
        "id": "rkYpNe77bcGT"
      },
      "source": [
        "let's create 'Browser_based' list"
      ]
    },
    {
      "cell_type": "code",
      "execution_count": null,
      "metadata": {
        "id": "LKsktAhjbcGT"
      },
      "outputs": [],
      "source": [
        "Browser_based = set(['Jupyterlab','Jupyter Notebook','Colab','pandas'])\n",
        "print(f\"Browser_based set is now:{Browser_based}\")"
      ]
    },
    {
      "cell_type": "markdown",
      "metadata": {
        "id": "CIQByTm5bcGV"
      },
      "source": [
        "### E1.7 (2 pnts)"
      ]
    },
    {
      "cell_type": "markdown",
      "metadata": {
        "id": "ux6ZuetwbcGW"
      },
      "source": [
        "Ooops! remove 'pandas' from 'Browser_based' set and then add 'Browser_based' to tools"
      ]
    },
    {
      "cell_type": "code",
      "execution_count": null,
      "metadata": {
        "id": "3qN7F7EpbcGW"
      },
      "outputs": [],
      "source": [
        "### Start of your code ##\n",
        "\n",
        "### End   of your code ##\n",
        "\n",
        "print(f\"Browser_based set is now:{Browser_based}\")\n",
        "print(f\"tools set is updated to:{tools}\")"
      ]
    },
    {
      "cell_type": "markdown",
      "metadata": {
        "id": "8dtvSissbcGY"
      },
      "source": [
        "Browser_based set is now:{'Jupyterlab', 'Colab', 'Jupyter Notebook'}\n",
        "tools set is updated to:{'Scipy', 'Numpy', 'Gluviz', 'Jupyter Notebook', 'Jupyterlab', 'seaborn', 'Colab', 'vsCode', 'Matplotlib', 'Spyder'}"
      ]
    },
    {
      "cell_type": "markdown",
      "metadata": {
        "id": "6lFNdAlsbcGZ"
      },
      "source": [
        "## List"
      ]
    },
    {
      "cell_type": "markdown",
      "metadata": {
        "id": "-GvoY105bcGZ"
      },
      "source": [
        "List is a collection which is ordered and changeable. Allows duplicate members.  \n",
        "you can store any type inside a list"
      ]
    },
    {
      "cell_type": "markdown",
      "metadata": {
        "id": "dH2PlEIQbcGZ"
      },
      "source": [
        "### E1.8) (2 pnts)\n",
        "Given the list of integers B below, find the most frequent integer in that list\n",
        "and store it in `most_frequent` variable"
      ]
    },
    {
      "cell_type": "code",
      "execution_count": null,
      "metadata": {
        "id": "OJOM4c9zbcGa"
      },
      "outputs": [],
      "source": [
        "import random\n",
        "random.seed(57)\n",
        "B = [random.randint(0,10) for i in range(20)]\n",
        "print(f'B={B}')\n",
        "\n",
        "### Start of your code ##\n",
        "\n",
        "### End   of your code ##\n",
        "\n",
        "print(f'most_frequent number is = {most_frequent}')"
      ]
    },
    {
      "cell_type": "markdown",
      "metadata": {
        "id": "bgqlHqoUbcGb"
      },
      "source": [
        "B=[0, 5, 9, 9, 0, 3, 8, 5, 7, 4, 6, 10, 6, 0, 2, 8, 9, 5, 6, 6]\n",
        "most_frequent number is =6"
      ]
    },
    {
      "cell_type": "markdown",
      "metadata": {
        "id": "RfkbGq2dbcGb"
      },
      "source": [
        "### E1.9) (2 pnts)"
      ]
    },
    {
      "cell_type": "markdown",
      "metadata": {
        "id": "sGAjOHIJbcGc"
      },
      "source": [
        "Given the list C below\n",
        " - count number of occurrences of each value in list C (without using any external library)"
      ]
    },
    {
      "cell_type": "code",
      "execution_count": null,
      "metadata": {
        "id": "Y6sbJ12KbcGd"
      },
      "outputs": [],
      "source": [
        "random.seed(57)\n",
        "C = [random.randint(0,10) for i in range(20)]\n",
        "print(sorted(C))\n",
        "\n",
        "### Start of your code ##\n",
        "# hint: use list comprehension\n",
        "\n",
        "### End   of your code ##\n",
        "\n",
        "count_C"
      ]
    },
    {
      "cell_type": "markdown",
      "metadata": {
        "id": "DQXNO3MFbcGf"
      },
      "source": [
        "[0, 0, 0, 2, 3, 4, 5, 5, 5, 6, 6, 6, 6, 7, 8, 8, 9, 9, 9, 10]\n",
        "[3, 1, 1, 1, 3, 4, 1, 2, 3, 1]"
      ]
    },
    {
      "cell_type": "markdown",
      "metadata": {
        "id": "rwOsJ1fxbcGf"
      },
      "source": [
        "- count number of occurrences of each value in list C (use any library you like)"
      ]
    },
    {
      "cell_type": "code",
      "execution_count": null,
      "metadata": {
        "id": "rMacrL5FbcGf"
      },
      "outputs": [],
      "source": [
        "### Start of your code ##\n",
        "\n",
        "### End   of your code ##\n",
        "\n",
        "print(sorted(C))\n",
        "count_C"
      ]
    },
    {
      "cell_type": "markdown",
      "metadata": {
        "id": "RsXOtRA8bcGh"
      },
      "source": [
        "[0, 0, 0, 2, 3, 4, 5, 5, 5, 6, 6, 6, 6, 7, 8, 8, 9, 9, 9, 10]\n",
        "array([3, 0, 1, 1, 1, 3, 4, 1, 2, 3, 1], dtype=int64)"
      ]
    },
    {
      "cell_type": "markdown",
      "metadata": {
        "id": "9cEFqKkkbcGh"
      },
      "source": [
        "### E1.10) (3 pnts)\n",
        "Suppose y_true is a list (that contains true class labels), and  \n",
        "y_pred is another list (with predicted class labels from some machine learning task.)  \n",
        "Calculate the **prediction accuracy in percent** (without using any external libraries like NumPy or scikit-learn).  \n",
        "Hint: [scikitlearn help](https://scikit-learn.org/0.15/modules/generated/sklearn.metrics.accuracy_score.html#sklearn.metrics.accuracy_score) example"
      ]
    },
    {
      "cell_type": "code",
      "execution_count": null,
      "metadata": {
        "id": "NXjl-4o8bcGi"
      },
      "outputs": [],
      "source": [
        "y_true = [1, 2, 0, 1, 1, 2, 3, 1, 2, 1]\n",
        "y_pred = [1, 2, 1, 1, 1, 0, 3, 1, 2, 1]\n",
        "\n",
        "\n",
        "correct = 0\n",
        "total_elements = 0\n",
        "\n",
        "### Start of your code ##\n",
        "\n",
        "### End   of your code ##\n",
        "\n",
        "\n",
        "print(f'accuracy: {accuracy:.2f}')"
      ]
    },
    {
      "cell_type": "markdown",
      "metadata": {
        "id": "nHYoYtJ7bcGk"
      },
      "source": [
        "accuracy: 80.00"
      ]
    },
    {
      "cell_type": "markdown",
      "metadata": {
        "id": "gfd-JW_KbcGk"
      },
      "source": [
        "## Dictionary"
      ]
    },
    {
      "cell_type": "markdown",
      "metadata": {
        "id": "UQJsNG2WbcGk"
      },
      "source": [
        "A dictionary is a collection which is unordered, changeable and indexed.  \n",
        "In Python dictionaries are written with curly brackets, and they have keys and values.\n",
        "thisdict = {\n",
        "  \"brand\": \"BMW\",\n",
        "  \"model\": \"X3\",\n",
        "  \"year\": 2005\n",
        "}"
      ]
    },
    {
      "cell_type": "markdown",
      "metadata": {
        "id": "SleWX3H9bcGl"
      },
      "source": [
        "### E1.11) (3 pnts)\n",
        "Given the list B below, create a dictionary   \n",
        "and save each member of B and its frequency (number of occurances) as one item in a dictionary called `B_and_freq`"
      ]
    },
    {
      "cell_type": "code",
      "execution_count": null,
      "metadata": {
        "id": "BWXoj6d-bcGl"
      },
      "outputs": [],
      "source": [
        "random.seed(57)\n",
        "B = [random.randint(0,10) for i in range(25)]\n",
        "print(f'B={B}')\n",
        "\n",
        "### Start of your code ##\n",
        "\n",
        "### End   of your code ##\n",
        "\n",
        "print(f'B and frequencies ={B_and_freq}')"
      ]
    },
    {
      "cell_type": "markdown",
      "metadata": {
        "id": "uNUx340abcGn"
      },
      "source": [
        "B=[0, 5, 9, 9, 0, 3, 8, 5, 7, 4, 6, 10, 6, 0, 2, 8, 9, 5, 6, 6, 1, 10, 9, 10, 7]\n",
        "B and frequencies ={0: 3, 1: 1, 2: 1, 3: 1, 4: 1, 5: 3, 6: 4, 7: 2, 8: 2, 9: 4, 10: 3}"
      ]
    },
    {
      "cell_type": "markdown",
      "metadata": {
        "id": "X7ecv2LkbcGo"
      },
      "source": [
        "### E1.12) (3 pnts)\n",
        "now find the most frequent integer (as \"most_frequent\") and its number of occurrences (as \"occurrences\")"
      ]
    },
    {
      "cell_type": "code",
      "execution_count": null,
      "metadata": {
        "id": "KXiUWtWRbcGo"
      },
      "outputs": [],
      "source": [
        "### Start of your code ##\n",
        "\n",
        "### End   of your code ##\n",
        "\n",
        "print(f'most_frequent number is {most_frequent} which is repeated {occurrences} times')"
      ]
    },
    {
      "cell_type": "markdown",
      "metadata": {
        "id": "R9fe4ASUTMQY"
      },
      "source": [
        "### E1.13 (1 pnts)\n",
        "Check whether \"most_frequent\" is an integer"
      ]
    },
    {
      "cell_type": "code",
      "execution_count": null,
      "metadata": {
        "id": "JG4u6QX4TUbL"
      },
      "outputs": [],
      "source": [
        "### Start of your code ##\n",
        "\n",
        "### End   of your code ##\n",
        "\n",
        "print(f'Is {most_frequent} an integer?  {data_type}')"
      ]
    },
    {
      "cell_type": "markdown",
      "metadata": {
        "id": "lIBcDtmtbcGq",
        "toc-hr-collapsed": true,
        "toc-nb-collapsed": true
      },
      "source": [
        "# Numpy\n",
        "<a id='Numpy'></a>"
      ]
    },
    {
      "cell_type": "markdown",
      "metadata": {
        "id": "0D3aQ8HvbcGr"
      },
      "source": [
        "## some basics"
      ]
    },
    {
      "cell_type": "markdown",
      "metadata": {
        "id": "s14XoS2IbcGr"
      },
      "source": [
        "### E2.1) (1 pnt)\n",
        "Import the NumPy library to create a 3x3 array with values ranging 0-8.  \n",
        "Then add an operation to get the output (H) which should look as follows:"
      ]
    },
    {
      "cell_type": "markdown",
      "metadata": {
        "id": "tWNzQQL9bcGs"
      },
      "source": [
        "array([[10, 11, 12],  \n",
        "       [13, 14, 15],  \n",
        "       [16, 17, 18]])"
      ]
    },
    {
      "cell_type": "code",
      "execution_count": null,
      "metadata": {
        "id": "OTTOHax1bcGs"
      },
      "outputs": [],
      "source": [
        "import numpy as np\n",
        "### Start of your code ##\n",
        "\n",
        "### End   of your code ##\n",
        "\n",
        "H"
      ]
    },
    {
      "cell_type": "markdown",
      "metadata": {
        "id": "t2Oold8-bcGx"
      },
      "source": [
        "### E2.2) (2 pnts)\n",
        "create a 3x3 NumPy array (I) with random values in range [0,5] drawn from a uniform distribution using the random seed 57."
      ]
    },
    {
      "cell_type": "code",
      "execution_count": null,
      "metadata": {
        "id": "JZkp41nUbcGx"
      },
      "outputs": [],
      "source": [
        "rng = np.random.RandomState(57)\n",
        "### Start of your code ##\n",
        "\n",
        "### End   of your code ##\n",
        "\n",
        "I"
      ]
    },
    {
      "cell_type": "markdown",
      "metadata": {
        "id": "Pu9U1RA2bcGz"
      },
      "source": [
        "array([[0.43674821, 1.1523855 , 2.05530535],\n",
        "       [1.55391349, 2.82977945, 2.72531852],\n",
        "       [4.03549721, 4.59077554, 2.61045376]])"
      ]
    },
    {
      "cell_type": "markdown",
      "metadata": {
        "id": "WklnS9yqbcG0"
      },
      "source": [
        "### E2.3) (3 pnts)\n",
        "let's create an array like A,  \n",
        "then use the NumPy slicing to put the 2x2 lower-right corner of A in another array called B"
      ]
    },
    {
      "cell_type": "markdown",
      "metadata": {
        "id": "2JajukbCbcG0"
      },
      "source": [
        "A = array([[ 1,  2,  3,  4],\n",
        "           [ 5,  6,  7,  8],\n",
        "           [ 9, 10, 11, 12],\n",
        "           [13, 14, 15, 16]])"
      ]
    },
    {
      "cell_type": "code",
      "execution_count": null,
      "metadata": {
        "id": "9ainU427bcG1"
      },
      "outputs": [],
      "source": [
        "### Start of your code ##\n",
        "\n",
        "### End   of your code ##\n",
        "\n",
        "print(f'A=\\n{A}\\n')\n",
        "print(f'B=\\n{B}')"
      ]
    },
    {
      "cell_type": "markdown",
      "metadata": {
        "id": "-qkE7-HhbcG3"
      },
      "source": [
        "A=\n",
        "[[ 1  2  3  4]\n",
        " [ 5  6  7  8]\n",
        " [ 9 10 11 12]\n",
        " [13 14 15 16]]\n",
        "\n",
        "B=\n",
        "[[11 12]\n",
        " [15 16]]"
      ]
    },
    {
      "cell_type": "markdown",
      "metadata": {
        "id": "u3GA25abbcG4"
      },
      "source": [
        "### E2.4) (3 pnts)"
      ]
    },
    {
      "cell_type": "markdown",
      "metadata": {
        "id": "-dletoXzbcG4"
      },
      "source": [
        "Let's multiply all elements of A by 7  \n",
        "then print A and B again"
      ]
    },
    {
      "cell_type": "code",
      "execution_count": null,
      "metadata": {
        "id": "q4FbpxpnbcG4"
      },
      "outputs": [],
      "source": [
        "A*=7\n",
        "\n",
        "print(f'A=\\n{A}\\n')\n",
        "print(f'B=\\n{B}')"
      ]
    },
    {
      "cell_type": "markdown",
      "metadata": {
        "id": "ngoUprL8bcG7"
      },
      "source": [
        "What happened to B? Write Your Explanation.  \n",
        "[This link](https://scipy-cookbook.readthedocs.io/items/ViewsVsCopies.html) may help you!  \n",
        "\n",
        "$\\color{blue}{\\textit Your Explanation:}$"
      ]
    },
    {
      "cell_type": "markdown",
      "metadata": {
        "id": "ikVsUsjNbcG8"
      },
      "source": [
        "### E2.5) (2 pnts)"
      ]
    },
    {
      "cell_type": "markdown",
      "metadata": {
        "id": "5EimGEplbcG8"
      },
      "source": [
        "Change the way that you defined B to solve the issue inprevious part."
      ]
    },
    {
      "cell_type": "code",
      "execution_count": null,
      "metadata": {
        "id": "csVXi8aFbcG8"
      },
      "outputs": [],
      "source": [
        "### Start of your code ##\n",
        "\n",
        "### End   of your code ##\n",
        "\n",
        "A*=7\n",
        "print(f'A=\\n{A}\\n')\n",
        "print(f'B=\\n{B}')"
      ]
    },
    {
      "cell_type": "markdown",
      "metadata": {
        "id": "FZ_vXOJRbcG-"
      },
      "source": [
        "A=\n",
        "[[  7  14  21  28]\n",
        " [ 35  42  49  56]\n",
        " [ 63  70  77  84]\n",
        " [ 91  98 105 112]]\n",
        "\n",
        "B=\n",
        "[[11 12]\n",
        " [15 16]]"
      ]
    },
    {
      "cell_type": "markdown",
      "metadata": {
        "id": "SnRNv9y6bcG_"
      },
      "source": [
        "### E2.6) (2 pnts)\n",
        "Given two arrays D and E below\n",
        " - change the shape of E as D (row-major)\n",
        " - change the shape of E as D (column-major)"
      ]
    },
    {
      "cell_type": "code",
      "execution_count": null,
      "metadata": {
        "id": "muizxRMfbcG_"
      },
      "outputs": [],
      "source": [
        "rng = np.random.RandomState(57)\n",
        "D = rng.randint(0, 10, (5,4))\n",
        "E = rng.randint(0, 10, 20)\n",
        "print(f'D=\\n{D}\\n')\n",
        "print(f'E=\\n{E}')\n",
        "### Start of your code ##\n",
        "\n",
        "E_row_major = # row-major code here\n",
        "\n",
        "E_col_major = # column-major code here\n",
        "\n",
        "### End   of your code ##\n",
        "print(f'\\nafter row-major reshape:\\nE_row_major=\\n{E_row_major}')\n",
        "print(f'\\nafter column-major reshape:\\nE_row_major=\\n{E_col_major}')\n"
      ]
    },
    {
      "cell_type": "markdown",
      "metadata": {
        "id": "EQASSCvZbcHB"
      },
      "source": [
        " Results should look like this:\n",
        " ```\n",
        "D=\n",
        "[[6 5 6 8]\n",
        " [2 8 8 1]\n",
        " [7 9 5 8]\n",
        " [8 1 1 2]\n",
        " [0 1 6 4]]\n",
        "\n",
        "E=\n",
        "[5 9 6 2 8 5 2 0 1 7 2 2 1 3 5 7 5 8 0 6]\n",
        "\n",
        "after row-major reshape:\n",
        "E_row_major=\n",
        "[[5 9 6 2]\n",
        " [8 5 2 0]\n",
        " [1 7 2 2]\n",
        " [1 3 5 7]\n",
        " [5 8 0 6]]\n",
        "\n",
        "after column-major reshape:\n",
        "E_col_major=\n",
        "[[5 5 2 7]\n",
        " [9 2 2 5]\n",
        " [6 0 1 8]\n",
        " [2 1 3 0]\n",
        " [8 7 5 6]]\n",
        " ```\n"
      ]
    },
    {
      "cell_type": "markdown",
      "metadata": {
        "id": "V5gaQAYWbcHC"
      },
      "source": [
        "### E2.7) (2 pnts)\n",
        "Given the arrays F below, collapse array elements into one dimension.  \n",
        "- row-major in another array called   `F_flattened_row_major`\n",
        "-column-major in another array called `F_flattened_column_major`"
      ]
    },
    {
      "cell_type": "code",
      "execution_count": null,
      "metadata": {
        "id": "6Ay1VFOwbcHC"
      },
      "outputs": [],
      "source": [
        "rng = np.random.RandomState(57)\n",
        "F = rng.randint(0, 10, (5,4))\n",
        "print(f'\\nF:\\n{F}')\n",
        "\n",
        "### Start of your code ##\n",
        "\n",
        "# row-major code here\n",
        "F_flattened_row_major =\n",
        "\n",
        "# column-major code here\n",
        "F_flattened_column_major =\n",
        "\n",
        "### End   of your code ##\n",
        "print(f'\\nFlattened(row-major):\\n{F_flattened_row_major}')\n",
        "print(f'\\nFlattened(column-major):\\n{F_flattened_column_major}')"
      ]
    },
    {
      "cell_type": "markdown",
      "metadata": {
        "id": "efAesW8rbcHF"
      },
      "source": [
        " Results should look like this:\n",
        " ```\n",
        " F:\n",
        "[[6 5 6 8]\n",
        " [2 8 8 1]\n",
        " [7 9 5 8]\n",
        " [8 1 1 2]\n",
        " [0 1 6 4]]\n",
        "\n",
        "Flattened(row-major):\n",
        "[6 5 6 8 2 8 8 1 7 9 5 8 8 1 1 2 0 1 6 4]\n",
        "\n",
        "Flattened(column-major):\n",
        "[6 2 7 8 0 5 8 9 1 1 6 8 5 1 6 8 1 8 2 4]\n",
        " ```"
      ]
    },
    {
      "cell_type": "markdown",
      "metadata": {
        "id": "rHstIqbIbcHF"
      },
      "source": [
        "## Images"
      ]
    },
    {
      "cell_type": "markdown",
      "metadata": {
        "id": "LCdwyFlRbcHF"
      },
      "source": [
        "[Images could be considered as arrays](http://dmuw.zum.de/images/6/6d/Matrix-en.pdf)  "
      ]
    },
    {
      "cell_type": "markdown",
      "metadata": {
        "id": "lsCrI3gGbcHG"
      },
      "source": [
        "### E2.8) (9pnts)"
      ]
    },
    {
      "cell_type": "markdown",
      "metadata": {
        "id": "yRdj_VqxbcHG"
      },
      "source": [
        "#### E2.8.1) grayscale images (2pnts)\n",
        "\n",
        "`grayscale images` just have one band(or layer), so they are 2D arrays (matrices)  \n",
        "Given the arrays _grayscale_image_ below"
      ]
    },
    {
      "cell_type": "code",
      "execution_count": null,
      "metadata": {
        "id": "JklxMIZIbcHH"
      },
      "outputs": [],
      "source": [
        "grayscale_image = np.array(range(20)).reshape(4,5)\n",
        "\n",
        "print(f'This grayscale_image is\\\n",
        " {grayscale_image.shape[0]}x{grayscale_image.shape[0]}\\\n",
        " and\\\n",
        " has {grayscale_image.ndim} dimenions.')\n",
        "grayscale_image"
      ]
    },
    {
      "cell_type": "markdown",
      "metadata": {
        "id": "xkII4s8FbcHJ"
      },
      "source": [
        "This grayscale_image is 4x5 and has 2 dimenions.\n",
        "array([[ 0,  1,  2,  3,  4],\n",
        "       [ 5,  6,  7,  8,  9],\n",
        "       [10, 11, 12, 13, 14],\n",
        "       [15, 16, 17, 18, 19]])"
      ]
    },
    {
      "cell_type": "markdown",
      "metadata": {
        "id": "QQjyhEbIbcHK"
      },
      "source": [
        "reshape the image into one row (collapse array elements into one dimension.)"
      ]
    },
    {
      "cell_type": "markdown",
      "metadata": {
        "id": "nLeEaZ3abcHK"
      },
      "source": [
        "array([ 0,  1,  2,  3,  4,  5,  6,  7,  8,  9, 10, 11, 12, 13, 14, 15, 16,\n",
        "       17, 18, 19])"
      ]
    },
    {
      "cell_type": "code",
      "execution_count": null,
      "metadata": {
        "id": "Y9JgzsAQbcHK"
      },
      "outputs": [],
      "source": [
        "### Start of your code ##\n",
        "\n",
        "### End   of your code ##\n",
        "grayscale_image_flattened"
      ]
    },
    {
      "cell_type": "markdown",
      "metadata": {
        "id": "C9kIxIO5bcHN"
      },
      "source": [
        "array([ 0,  1,  2,  3,  4,  5,  6,  7,  8,  9, 10, 11, 12, 13, 14, 15, 16,\n",
        "       17, 18, 19])"
      ]
    },
    {
      "cell_type": "markdown",
      "metadata": {
        "id": "Y9lGmtWMbcHN"
      },
      "source": [
        "#### E2.8.2) RGB images (3pnts)"
      ]
    },
    {
      "cell_type": "markdown",
      "metadata": {
        "id": "q-0ZqgLubcHO"
      },
      "source": [
        "`RGB images` have 3 band(or layers), so they are 3D arrays (tensors)\n",
        "\n",
        "Given the arrays _RGB_image_ below"
      ]
    },
    {
      "cell_type": "code",
      "execution_count": null,
      "metadata": {
        "id": "LWEMK64ibcHO"
      },
      "outputs": [],
      "source": [
        "RGB_image = np.array(range(12)).reshape(3,2,2)\n",
        "print(f'This RGB_image is\\\n",
        " {RGB_image.shape[1]}x{RGB_image.shape[2]}\\\n",
        " and\\\n",
        " has {RGB_image.ndim} dimenions.')\n",
        "RGB_image"
      ]
    },
    {
      "cell_type": "markdown",
      "metadata": {
        "id": "ieivBWzZbcHR"
      },
      "source": [
        "This RGB_image is 2x2 and has 3 dimenions.\n",
        "array([[[ 0,  1],\n",
        "        [ 2,  3]],\n",
        "\n",
        "       [[ 4,  5],\n",
        "        [ 6,  7]],\n",
        "\n",
        "       [[ 8,  9],\n",
        "        [10, 11]]])"
      ]
    },
    {
      "cell_type": "markdown",
      "metadata": {
        "id": "bn_WRszPbcHR"
      },
      "source": [
        "reshape the image into one row and assign it a variable called `RGB_image_flattened`"
      ]
    },
    {
      "cell_type": "code",
      "execution_count": null,
      "metadata": {
        "id": "7ivkfmCUbcHS"
      },
      "outputs": [],
      "source": [
        "### Start of your code ##\n",
        "\n",
        "### End   of your code ##\n",
        "RGB_image_flattened"
      ]
    },
    {
      "cell_type": "markdown",
      "metadata": {
        "id": "wuNv82DRbcHU"
      },
      "source": [
        "array([ 0,  1,  2,  3,  4,  5,  6,  7,  8,  9, 10, 11])"
      ]
    },
    {
      "cell_type": "markdown",
      "metadata": {
        "id": "bjYwDYdFbcHV"
      },
      "source": [
        "#### E2.8.3) More than one RGB image (4pnts)"
      ]
    },
    {
      "cell_type": "markdown",
      "metadata": {
        "id": "c14jpqNRbcHV"
      },
      "source": [
        "Later in this course, we will also need to put many RGB images in a 2D array(Each flattened image as one row)  \n",
        "Given the 4D array `RGB_images` below (2 RGB images (each layar of each image is 2x2)"
      ]
    },
    {
      "cell_type": "code",
      "execution_count": null,
      "metadata": {
        "id": "QXWA43HfbcHW"
      },
      "outputs": [],
      "source": [
        "RGB_images = np.array(range(24)).reshape(2,3,2,2)\n",
        "\n",
        "\n",
        "print(f'There are {RGB_images.shape[0]} RGB_images\\\n",
        " : each of size\\\n",
        " {RGB_images.shape[-2]}x{RGB_images.shape[-1]}.\\\n",
        " So our tensor has {RGB_images.ndim} dimensions(4D).\\\n",
        "\\nThe shape of the tensor is: {RGB_images.shape}')\n",
        "\n",
        "print(f'  The first number  ({RGB_images.shape[0]}): indicated the number of images,\\\n",
        "\\n  The second number ({RGB_images.shape[1]}): indicated the number of layers of images (Red,Green,Blue),\\\n",
        "\\n  The third number  ({RGB_images.shape[2]}): indicated the number of rows in each layer,\\\n",
        "\\n  The last number   ({RGB_images.shape[3]}): indicated the number of columns in each layer.\\n')\n",
        "\n",
        "print(f'RGB_images array look like:\\n{RGB_images}')"
      ]
    },
    {
      "cell_type": "markdown",
      "metadata": {
        "id": "tBTu646obcHZ"
      },
      "source": [
        "There are 2 RGB_images : each of size 2x2. So our tensor has 4 dimensions(4D).\n",
        "The shape of the tensor is: (2, 3, 2, 2)\n",
        "  The first number  (2): indicated the number of images,\n",
        "  The second number (3): indicated the number of layers of images (Red,Green,Blue),\n",
        "  The third number  (2): indicated the number of rows in each layer,\n",
        "  The last number   (2): indicated the number of columns in each layer.\n",
        "\n",
        "RGB_images array look like:\n",
        "[[[[ 0  1]\n",
        "   [ 2  3]]\n",
        "\n",
        "  [[ 4  5]\n",
        "   [ 6  7]]\n",
        "\n",
        "  [[ 8  9]\n",
        "   [10 11]]]\n",
        "\n",
        "\n",
        " [[[12 13]\n",
        "   [14 15]]\n",
        "\n",
        "  [[16 17]\n",
        "   [18 19]]\n",
        "\n",
        "  [[20 21]\n",
        "   [22 23]]]]"
      ]
    },
    {
      "cell_type": "markdown",
      "metadata": {
        "id": "Xxey5jrzbcHa"
      },
      "source": [
        "reshape the images into a 2D array where each row corresponds to one image and put it in a variable called `RGB_images_flattened`"
      ]
    },
    {
      "cell_type": "code",
      "execution_count": null,
      "metadata": {
        "id": "OJ7XqB6-bcHa"
      },
      "outputs": [],
      "source": [
        "### Start of your code ##\n",
        "\n",
        "### End   of your code ##\n",
        "RGB_images_flattened"
      ]
    },
    {
      "cell_type": "markdown",
      "metadata": {
        "id": "1uZLCwhAbcHc"
      },
      "source": [
        "RGB_images_flattened =\n",
        " [[ 0  1  2  3  4  5  6  7  8  9 10 11]\n",
        " [12 13 14 15 16 17 18 19 20 21 22 23]]"
      ]
    },
    {
      "cell_type": "markdown",
      "metadata": {
        "id": "bYpWhyJ1bcHc"
      },
      "source": [
        "# Functions\n",
        "<a id='Functions'></a>\n",
        "\n"
      ]
    },
    {
      "cell_type": "markdown",
      "metadata": {
        "id": "n8VO9EcebcHc"
      },
      "source": [
        "## Defining a function"
      ]
    },
    {
      "cell_type": "markdown",
      "metadata": {
        "id": "AOCyFI5YbcHd"
      },
      "source": [
        "[Python official doc](https://docs.python.org/3/tutorial/controlflow.html#defining-functions)"
      ]
    },
    {
      "cell_type": "markdown",
      "metadata": {
        "id": "JTuhIaMFbcHd"
      },
      "source": [
        "### E3.1) (8 pnts)"
      ]
    },
    {
      "cell_type": "markdown",
      "metadata": {
        "id": "Ek4T2zSubcHe"
      },
      "source": [
        "Write a function called `flatten_images` with:  \n",
        " - input: ND array called images as input  \n",
        " - output: 2D array images_flattened as discussed in E2.8.3\n",
        "\n",
        "your function should be able to manage 1 or more grayscale or RGB image(s)    "
      ]
    },
    {
      "cell_type": "code",
      "execution_count": null,
      "metadata": {
        "id": "wJIl_rjYbcHe"
      },
      "outputs": [],
      "source": [
        "### Start of your code ##\n",
        "def flatten_images(images):\n",
        "\n",
        "    return images_flattened\n",
        "### End   of your code ##"
      ]
    },
    {
      "cell_type": "markdown",
      "metadata": {
        "id": "PfIiLOqcbcHf"
      },
      "source": [
        "#### Test"
      ]
    },
    {
      "cell_type": "markdown",
      "metadata": {
        "id": "l2TqjCcebcHf"
      },
      "source": [
        "let's test your function"
      ]
    },
    {
      "cell_type": "code",
      "execution_count": null,
      "metadata": {
        "id": "XU8gJjXgbcHg"
      },
      "outputs": [],
      "source": [
        "np.equal(grayscale_image_flattened,flatten_images(grayscale_image)).all()"
      ]
    },
    {
      "cell_type": "markdown",
      "metadata": {
        "id": "kpKMLcGTbcHi"
      },
      "source": [
        "If your function works correctly (for 1 grayscale image) the output of the line above would be:"
      ]
    },
    {
      "cell_type": "markdown",
      "metadata": {
        "id": "YsS9t_SkbcHi"
      },
      "source": [
        "True"
      ]
    },
    {
      "cell_type": "markdown",
      "metadata": {
        "id": "nedpgEOIbcHj"
      },
      "source": [
        "If you run the next line and your function does not work correctly (for 1 RGB image) you will get an error,  \n",
        "otherwise nothing happens. It means the assertion is done."
      ]
    },
    {
      "cell_type": "code",
      "execution_count": null,
      "metadata": {
        "id": "s5e-t1rqbcHj"
      },
      "outputs": [],
      "source": [
        "assert np.equal(RGB_image_flattened ,flatten_images(RGB_image)).all() == True"
      ]
    },
    {
      "cell_type": "markdown",
      "metadata": {
        "id": "PVBjjwN8bcHk"
      },
      "source": [
        "If you run the next line and your function does not work correctly (for more than 1 RGB images) you will get an error,  \n",
        "otherwise nothing happens. It means the assertion is done."
      ]
    },
    {
      "cell_type": "code",
      "execution_count": null,
      "metadata": {
        "id": "ko2kyEc0bcHk"
      },
      "outputs": [],
      "source": [
        "assert np.equal(RGB_images_flattened,flatten_images(RGB_images)).all() == True"
      ]
    },
    {
      "cell_type": "markdown",
      "metadata": {
        "id": "M3amrHK_bcHm"
      },
      "source": [
        "## Defining another function"
      ]
    },
    {
      "cell_type": "markdown",
      "metadata": {
        "id": "9NPhxvDTbcHm"
      },
      "source": [
        "let's create two numpy arrays like X and y"
      ]
    },
    {
      "cell_type": "code",
      "execution_count": null,
      "metadata": {
        "colab": {
          "base_uri": "https://localhost:8080/"
        },
        "id": "vGLNc3JfbcHn",
        "outputId": "4d7d2c74-a5d9-4121-e427-68cef5133c49"
      },
      "outputs": [
        {
          "name": "stdout",
          "output_type": "stream",
          "text": [
            "X=\n",
            "[[0 6 8]\n",
            " [4 8 8]\n",
            " [9 3 2]\n",
            " [3 6 1]\n",
            " [4 4 3]\n",
            " [7 8 2]\n",
            " [1 3 2]\n",
            " [1 3 4]\n",
            " [5 9 9]\n",
            " [9 9 5]\n",
            " [5 6 0]\n",
            " [0 5 2]]\n",
            "\n",
            "y=[0 1 1 0 1 0 0 1 1 1 1 1]\n"
          ]
        }
      ],
      "source": [
        "import numpy as np\n",
        "seed = 57\n",
        "rng = np.random.default_rng(seed)\n",
        "\n",
        "num_samples = 12\n",
        "num_features = 3\n",
        "num_classes = 2\n",
        "X = rng.integers(0, 10, (num_samples,num_features))\n",
        "y =rng.integers(0, num_classes, (num_samples))\n",
        "print(f'X=\\n{X}\\n')\n",
        "print(f'y={y}')"
      ]
    },
    {
      "cell_type": "markdown",
      "metadata": {
        "id": "hHU4-ePIbcHq"
      },
      "source": [
        "X=\n",
        "[[0 6 8]\n",
        " [4 8 8]\n",
        " [9 3 2]\n",
        " [3 6 1]\n",
        " [4 4 3]\n",
        " [7 8 2]\n",
        " [1 3 2]\n",
        " [1 3 4]\n",
        " [5 9 9]\n",
        " [9 9 5]\n",
        " [5 6 0]\n",
        " [0 5 2]]\n",
        "\n",
        "y=[0 1 1 0 1 0 0 1 1 1 1 1]"
      ]
    },
    {
      "cell_type": "markdown",
      "metadata": {
        "id": "M2Q7ycSubcHr"
      },
      "source": [
        "### E3.2) (15 pnts)"
      ]
    },
    {
      "cell_type": "markdown",
      "metadata": {
        "id": "oWof_w4kbcHs"
      },
      "source": [
        "Given the function below called `split_to_2sets`\n",
        " - Complete the inputs and outputs ducumentation (2pnts)\n",
        " - Complete function implementation (8pnts)  \n",
        "      Splits each of X,y input arrays to 2 separate arrays with the same orders  \n",
        "      Check also the function arguments. It should work properly, when you send different values for the parametrs  \n",
        "      first_set_size could be a number in [0,1) or an integer>=1.\n",
        "          When it is in [0,1): use it as percentage\n",
        "          When it is an integer>=1: use it directly as first_set_size\n",
        "              in our example above:\n",
        "                  if first_set_size=0.25, X1 should be 3x3 and X2 should be 9x3\n",
        "                  if first_set_size=5, X1 should be 5x3 and X2 should be 7x3\n",
        "      \n",
        "You can get some hints from following links:   \n",
        "**But do not use them directly and write your code just with low level numpy and python commands**  \n",
        "[numpy.random.choice ](https://numpy.org/doc/stable/reference/random/generated/numpy.random.choice.html)  \n",
        "\n",
        "[numpy.random.Generator.choice](https://numpy.org/doc/stable/reference/random/generated/numpy.random.Generator.choice.html)  \n",
        "\n",
        "[sklearn.model_selection.train_test_split](https://scikit-learn.org/stable/modules/generated/sklearn.model_selection.train_test_split.html)         "
      ]
    },
    {
      "cell_type": "code",
      "execution_count": null,
      "metadata": {
        "id": "a9hiueWtbcHs"
      },
      "outputs": [],
      "source": [
        "def split_to_2sets(X,y,\n",
        "                   first_set_size=0.25,shuffle=True,RandomState_seed=57):\n",
        "    \"\"\"\n",
        "    Splits each of X,y input arrays to 2 separate arrays with the same orders\n",
        "\n",
        "    Inputs:\n",
        "    -X: A numpy array of shape (N, D)\n",
        "    -y: write about y\n",
        "    write about next inputs  <<<<<<<<<<<<<<<<<<<<<<<\n",
        "\n",
        "    outputs:\n",
        "    X1: A numpy array of shape (N1_indices, D) which contains the first set\n",
        "    X2: write about X2\n",
        "    write about next outputs <<<<<<<<<<<<<<<<<<<<<<<\n",
        "\n",
        "\n",
        "    \"\"\"\n",
        "    #check the inputs\n",
        "    assert X.shape[0]==y.shape[0]\n",
        "    if  first_set_size<=0:\n",
        "        raise ValueError('first_set_size should greater then zero')\n",
        "\n",
        "    ### Start of your code ##\n",
        "     #check other inputs to be valid\n",
        "\n",
        "\n",
        "    ### End of your code ##\n",
        "\n",
        "\n",
        "    N = X.shape[0]  #number of samples\n",
        "\n",
        "    ### Start of your code ##\n",
        "     # separate X1,X2,y1,y2\n",
        "\n",
        "    ### End of your code ##\n",
        "\n",
        "    return X1,X2,y1,y2"
      ]
    },
    {
      "cell_type": "markdown",
      "metadata": {
        "id": "hNjN4j3PbcHu"
      },
      "source": [
        "X1,X2,y1,y2 = split_to_2sets(X,y)\n",
        "\n",
        "X1 =\n",
        " [[2 2 1]\n",
        " [9 6 2]\n",
        " [8 1 1]]\n",
        "X2 =\n",
        " [[9 5 8]\n",
        " [8 2 8]\n",
        " [0 1 7]\n",
        " [6 5 6]\n",
        " [8 1 7]\n",
        " [8 5 2]\n",
        " [3 5 7]\n",
        " [2 0 1]\n",
        " [6 4 5]]\n",
        "y1 =\n",
        " [0 1 0]\n",
        "y2 =\n",
        " [0 0 0 1 0 1 0 0 0]"
      ]
    },
    {
      "cell_type": "markdown",
      "metadata": {
        "id": "zsTZ8oRKbcHu"
      },
      "source": [
        "#### Test your function"
      ]
    },
    {
      "cell_type": "markdown",
      "metadata": {
        "id": "ErITP6fpbcHu"
      },
      "source": [
        "Testing your code is very important.There are many ways to test your code.  \n",
        "more details:  [this link](https://realpython.com/python-testing/) or [this link](https://docs.python-guide.org/writing/tests/)\n",
        "\n",
        "[Unit tests](https://en.wikipedia.org/wiki/Unit_testing) are typically automated tests written and run by software developers to ensure that  \n",
        "a section of an application (known as the \"unit\") meets its design and behaves as intended.   \n",
        "\n",
        "There are many test runners available for Python. The one built into the Python standard library is called unittest.\n",
        "The most popular test runners are:\n",
        "\n",
        "- [pytest](https://docs.pytest.org/en/stable/),\n",
        "- [unittest](https://docs.python.org/3/library/unittest.html),\n",
        "- [nose](https://nose.readthedocs.io/en/latest/)  \n",
        "and\n",
        "- [doctest](https://docs.python.org/3/library/doctest.html)\n",
        "\n",
        "\n",
        "Relative benefits of pytest, unittest, nose, and doctest are described [here](http://www.rohitschauhan.com/index.php/2018/07/05/python-relative-benefits-of-pytest-unittest-nose-and-doctest/#:~:text=Pytest%20provides%20essentially%20the%20same,very%20easy%20to%20do%20so.)\n",
        "***"
      ]
    },
    {
      "cell_type": "markdown",
      "metadata": {
        "id": "oHzabpbrbcHv"
      },
      "source": [
        " Here we do some very simple manual tests."
      ]
    },
    {
      "cell_type": "code",
      "execution_count": null,
      "metadata": {
        "id": "7RRMgtSwbcHv"
      },
      "outputs": [],
      "source": [
        "# test_00 to test_03: testing the size of outputs in different situations\n",
        "\n",
        "# test_00: test with default keyword arguments\n",
        "X1,X2,y1,y2 = split_to_2sets(X,y)\n",
        "assert  (X1.shape[0]+X2.shape[0]==X.shape[0]\n",
        "         and\n",
        "         y1.shape[0]+y2.shape[0]==y.shape[0])\n",
        "\n",
        "\n",
        "# test_01: test changing RandomState_seed\n",
        "X1,X2,y1,y2 = split_to_2sets(X,y,RandomState_seed=402)\n",
        "assert (X1.shape[0]+X2.shape[0]==X.shape[0]\n",
        "        and\n",
        "        y1.shape[0]+y2.shape[0]==y.shape[0])\n",
        "\n",
        "\n",
        "# test_02: test shuffle\n",
        "X1,X2,y1,y2 = split_to_2sets(X,y,RandomState_seed=402,shuffle=False)\n",
        "assert (X1.shape[0]+X2.shape[0]==X.shape[0]\n",
        "        and\n",
        "        y1.shape[0]+y2.shape[0]==y.shape[0])\n",
        "\n",
        "\n",
        "# test_03: test first_set_size [0,1]\n",
        "X1,X2,y1,y2 = split_to_2sets(X,y,RandomState_seed=402,shuffle=False,first_set_size=.3)\n",
        "assert (X1.shape[0]+X2.shape[0]==X.shape[0]\n",
        "        and\n",
        "        y1.shape[0]+y2.shape[0]==y.shape[0])\n",
        "\n",
        "# test_04 to test_06: testing edge cases for \"first_set_size\"\n",
        "\n",
        "# test_04: test first_set_size to be 1\n",
        "X1,X2,y1,y2 = split_to_2sets(X,y,RandomState_seed=402,shuffle=False,first_set_size=1)\n",
        "assert (X1.shape[0]+X2.shape[0]==X.shape[0]\n",
        "        and\n",
        "        y1.shape[0]+y2.shape[0]==y.shape[0]\n",
        "        and\n",
        "        X1.shape[0]==1)"
      ]
    },
    {
      "cell_type": "code",
      "execution_count": null,
      "metadata": {
        "id": "Ey2RU1dqbcHx"
      },
      "outputs": [],
      "source": [
        "# test `edge cases` of `first_set_size`\n",
        "\n",
        "# test_05: test first_set_size to be 0 : We considered this case in our function\n",
        "# We should get a ValueError like \"first_set_size should greater then zero\"\n",
        "X1,X2,y1,y2 = split_to_2sets(X,y,RandomState_seed=402,shuffle=False,first_set_size=0)\n",
        "assert (X1.shape[0]+X2.shape[0]==X.shape[0]\n",
        "        and\n",
        "        y1.shape[0]+y2.shape[0]==y.shape[0])\n",
        "\n",
        "\n",
        "\n",
        "# test_06: test first_set_size to be a negative value :We considered this case in our function\n",
        "# We should get a ValueError like \"first_set_size should greater then zero\"\n",
        "X1,X2,y1,y2 = split_to_2sets(X,y,RandomState_seed=402,shuffle=False,first_set_size=-1)\n",
        "assert (X1.shape[0]+X2.shape[0]==X.shape[0]\n",
        "        and\n",
        "        y1.shape[0]+y2.shape[0]==y.shape[0])"
      ]
    },
    {
      "cell_type": "code",
      "execution_count": null,
      "metadata": {
        "id": "oAbxDV3bbcH1"
      },
      "outputs": [],
      "source": [
        "#check an example outputs\n",
        "Xt = np.array([[1,2],[3,4],[5,6]])\n",
        "yt = np.array([0,1,1])\n",
        "\n",
        "# test_07:\n",
        "Xt1,Xt2,yt1,yt2 = split_to_2sets(Xt,yt,first_set_size=2,shuffle=False)\n",
        "assert np.equal(Xt1,np.array([[1,2],[3,4]])).all()\n",
        "\n",
        "# test_08:\n",
        "Xt1,Xt2,yt1,yt2 = split_to_2sets(Xt,yt,first_set_size=0.34,shuffle=False)\n",
        "assert np.equal(Xt2,np.array([[3,4],[5,6]])).all()\n",
        "\n",
        "# test_09:\n",
        "Xt1,Xt2,yt1,yt2 = split_to_2sets(Xt,yt,first_set_size=0.7,shuffle=False)\n",
        "assert np.equal(Xt1,np.array([[1,2],[3,4]])).all()\n",
        "\n",
        "# test_10:\n",
        "Xt1,Xt2,yt1,yt2 = split_to_2sets(Xt,yt,first_set_size=0.1,shuffle=False)\n",
        "assert (Xt1.size == 0) and (Xt2.size == Xt.size)"
      ]
    },
    {
      "cell_type": "markdown",
      "metadata": {
        "id": "4tUDOL2qbcH2"
      },
      "source": [
        "check function documentation"
      ]
    },
    {
      "cell_type": "code",
      "execution_count": null,
      "metadata": {
        "id": "oHWBwFtPbcH2"
      },
      "outputs": [],
      "source": [
        "split_to_2sets.__doc__"
      ]
    },
    {
      "cell_type": "markdown",
      "metadata": {
        "id": "LL-F9V-bbcH4"
      },
      "source": [
        "We can also use"
      ]
    },
    {
      "cell_type": "code",
      "execution_count": null,
      "metadata": {
        "id": "Cr_k1NwZbcH4"
      },
      "outputs": [],
      "source": [
        "split_to_2sets?"
      ]
    },
    {
      "cell_type": "markdown",
      "metadata": {
        "id": "ILQZ68bhbcH7"
      },
      "source": [
        "or even"
      ]
    },
    {
      "cell_type": "code",
      "execution_count": null,
      "metadata": {
        "id": "UfF1BhSVbcH8"
      },
      "outputs": [],
      "source": [
        "split_to_2sets??"
      ]
    },
    {
      "cell_type": "markdown",
      "metadata": {
        "id": "hFGf3RGEbcH9"
      },
      "source": [
        "### E3.3) (1 pnt for each valid test, Max 5)"
      ]
    },
    {
      "cell_type": "markdown",
      "metadata": {
        "id": "uBV_vVH7bcH9"
      },
      "source": [
        "Add as much as **new** *valid tests* you can on `edge cases` (boundary conditions) or inputs/outputs"
      ]
    }
  ],
  "metadata": {
    "colab": {
      "collapsed_sections": [
        "nu2blZyHbcGH",
        "oGWxCc5MbcGN",
        "U4poJK5rbcGQ",
        "CIQByTm5bcGV",
        "dH2PlEIQbcGZ",
        "RfkbGq2dbcGb",
        "9cEFqKkkbcGh",
        "SleWX3H9bcGl",
        "X7ecv2LkbcGo",
        "s14XoS2IbcGr",
        "t2Oold8-bcGx",
        "WklnS9yqbcG0",
        "u3GA25abbcG4",
        "ikVsUsjNbcG8",
        "SnRNv9y6bcG_",
        "V5gaQAYWbcHC",
        "lsCrI3gGbcHG",
        "yRdj_VqxbcHG",
        "Y9lGmtWMbcHN",
        "bjYwDYdFbcHV",
        "JTuhIaMFbcHd",
        "PfIiLOqcbcHf",
        "M2Q7ycSubcHr",
        "zsTZ8oRKbcHu"
      ],
      "include_colab_link": true,
      "name": "Assignment00_.ipynb",
      "provenance": []
    },
    "kernelspec": {
      "display_name": "Python 3",
      "language": "python",
      "name": "python3"
    },
    "language_info": {
      "codemirror_mode": {
        "name": "ipython",
        "version": 3
      },
      "file_extension": ".py",
      "mimetype": "text/x-python",
      "name": "python",
      "nbconvert_exporter": "python",
      "pygments_lexer": "ipython3",
      "version": "3.8.3"
    },
    "toc-autonumbering": false
  },
  "nbformat": 4,
  "nbformat_minor": 0
}
